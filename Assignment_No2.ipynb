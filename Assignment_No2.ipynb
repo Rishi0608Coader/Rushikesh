{
 "cells": [
  {
   "cell_type": "markdown",
   "id": "f861a6f1-2451-4dac-86eb-e40443a5d268",
   "metadata": {},
   "source": [
    "# Tuple:"
   ]
  },
  {
   "cell_type": "markdown",
   "id": "2eb4bca3-efac-48f2-a2c6-3a66e2dd505b",
   "metadata": {},
   "source": [
    "## Q1)  Join Tuples if similar initial element\n",
    "While working with Python tuples, we can have a problem in which we need to perform concatenation of records from the similarity of initial element. This problem can have applications in data domains such as Data Science.\n",
    "\n",
    "For eg.\n",
    "\n",
    "Input  : test_list = [(5, 6), (5, 7), (5, 8), (6, 10), (7, 13)] \n",
    "Output : [(5, 6, 7, 8), (6, 10), (7, 13)] "
   ]
  },
  {
   "cell_type": "code",
   "execution_count": 2,
   "id": "b8ff3222-8f9c-4137-98ba-fee331a61129",
   "metadata": {},
   "outputs": [
    {
     "name": "stdout",
     "output_type": "stream",
     "text": [
      "The original list is : [(5, 6), (5, 7), (5, 8), (6, 10), (7, 13)]\n",
      "The extracted elements : [(5, 6, 7, 8), (6, 10), (7, 13)]\n"
     ]
    }
   ],
   "source": [
    "test_list = [(5, 6), (5, 7), (5, 8), (6, 10), (7, 13)]\n",
    "\n",
    "print(\"The original list is : \" + str(test_list))\n",
    " \n",
    "output_list = []\n",
    "for sub in test_list:\n",
    "    if output_list and output_list[-1][0] == sub[0]:\n",
    "        output_list[-1].extend(sub[1:])\n",
    "    else:\n",
    "        output_list.append([ele for ele in sub])\n",
    "output_list = list(map(tuple, output_list))\n",
    " \n",
    "print(\"The extracted elements : \" + str(output_list))"
   ]
  },
  {
   "cell_type": "markdown",
   "id": "d2fa448e-f1e1-41d0-82a6-7f2e61dc08e9",
   "metadata": {},
   "source": [
    "## Q2) Multiply Adjacent elements (both side) and take sum of right and lest side multiplication result.\n",
    "For eg.\n",
    "\n",
    "The original tuple : (1, 5, 7, 8, 10)\n",
    "Resultant tuple after multiplication : \n",
    "\n",
    "(1*5, 1*5+5*7, 7*5 + 7*8, 8*7 + 8*10, 10*8) -> (5, 40, 91, 136, 80)\n",
    "\n",
    "output-(5, 40, 91, 136, 80)"
   ]
  },
  {
   "cell_type": "code",
   "execution_count": 4,
   "id": "59d96b4f-2665-4ff8-b332-ff921f582350",
   "metadata": {},
   "outputs": [
    {
     "name": "stdout",
     "output_type": "stream",
     "text": [
      "(2801, 561, 85, 45, 281)\n"
     ]
    }
   ],
   "source": [
    "def multiply_and_sum_adjacent_elements(ot):\n",
    "    result = []\n",
    "    for i in range(len(ot)):\n",
    "        left_product = 1\n",
    "        right_product = 1\n",
    "        for j in range(i):\n",
    "            left_product *= ot[j]\n",
    "        for k in range(i + 1, len(ot)):\n",
    "            right_product *= ot[k]\n",
    "        result.append(left_product + right_product)\n",
    "    return tuple(result)\n",
    "\n",
    "ot = (1,5,7,8,10)\n",
    "rt = multiply_and_sum_adjacent_elements(ot)\n",
    "print(rt)"
   ]
  },
  {
   "cell_type": "markdown",
   "id": "2d944fcd-c69b-4a53-b2e0-fbb16563f336",
   "metadata": {},
   "source": [
    "## Q3) Check is tuples are same or not?\n",
    "Two tuples would be same if both tuples have same element at same index\n",
    "\n",
    "t1 = (1,2,3,0)\n",
    "t2 = (0,1,2,3)\n",
    "\n",
    "t1 and t2 are not same"
   ]
  },
  {
   "cell_type": "code",
   "execution_count": 7,
   "id": "78a4d231-8ac6-4ca2-a7c0-3e837793cf4c",
   "metadata": {},
   "outputs": [
    {
     "name": "stdout",
     "output_type": "stream",
     "text": [
      "Tuple are same.\n"
     ]
    }
   ],
   "source": [
    "t1 = (1,2,3,4)\n",
    "t2 = (1,2,3,4)\n",
    "if t1 == t2:\n",
    "    print(\"Tuple are same.\")\n",
    "else:\n",
    "    print(\"Tuple are not same.\")"
   ]
  },
  {
   "cell_type": "markdown",
   "id": "5f0e6387-212f-49fd-9676-edc6a9f3a632",
   "metadata": {},
   "source": [
    "## Q4)  Count no of tuples, list and set from a list\n",
    "list1 = [{'hi', 'bye'},{'Geeks', 'forGeeks'},('a', 'b'),['hi', 'bye'],['a', 'b']]\n",
    "Output:\n",
    "\n",
    "List-2\n",
    "Set-2\n",
    "Tuples-1"
   ]
  },
  {
   "cell_type": "code",
   "execution_count": 2,
   "id": "fddf078a-9ae8-410a-9ff9-460f03a2c7e3",
   "metadata": {},
   "outputs": [
    {
     "name": "stdout",
     "output_type": "stream",
     "text": [
      "Number of tuples: 0\n",
      "Number of lists: 0\n",
      "Number of sets: 2\n"
     ]
    }
   ],
   "source": [
    "my_list = [{'hi', 'bye'}, {'Geeks', 'forGeeks'}, 'a', 'b']\n",
    "\n",
    "tuple_count = 0\n",
    "list_count = 0\n",
    "set_count = 0\n",
    "\n",
    "for elem in my_list:\n",
    "    if isinstance(elem, tuple):\n",
    "        tuple_count += 1\n",
    "    elif isinstance(elem, list):\n",
    "        list_count += 1\n",
    "    elif isinstance(elem, set):\n",
    "        set_count += 1\n",
    "\n",
    "print(f\"Number of tuples: {tuple_count}\")\n",
    "print(f\"Number of lists: {list_count}\")\n",
    "print(f\"Number of sets: {set_count}\")\n"
   ]
  },
  {
   "cell_type": "markdown",
   "id": "949fa2fd-c7c9-4957-ae3d-43402e9e112a",
   "metadata": {},
   "source": [
    "## Q5)  Shortlist Students for a Job role\n",
    "Ask user to input students record and store in tuples for each record. Then Ask user to input three things he wants in the candidate- Primary Skill, Higher Education, Year of Graduation.\n",
    "\n",
    "Show every students record in form of tuples if matches all required criteria.\n",
    "\n",
    "It is assumed that there will be only one primry skill.\n",
    "\n",
    "If no such candidate found, print No such candidate\n",
    "\n",
    "Input:\n",
    "\n",
    "Enter No of records- 2\n",
    "Enter Details of student-1\n",
    "Enter Student name- Manohar\n",
    "Enter Higher Education- B.Tech\n",
    "Enter Primary Skill- Python\n",
    "Enter Year of Graduation- 2022\n",
    "Enter Details of student-2\n",
    "Enter Student name- Ponian\n",
    "Enter Higher Education- B.Sc.\n",
    "Enter Primary Skill- C++\n",
    "Enter Year of Graduation- 2020\n",
    "\n",
    "Enter Job Role Requirement\n",
    "Enter Skill- Python\n",
    "Enter Higher Education- B.Tech\n",
    "Enter Year of Graduation- 2022\n",
    "\n",
    "Output:\n",
    "('Manohar', 'B.tech', 'Python', '2022')"
   ]
  },
  {
   "cell_type": "code",
   "execution_count": 1,
   "id": "3681b71f-2b8f-464c-8cd0-7bb941fe0b90",
   "metadata": {},
   "outputs": [
    {
     "name": "stdin",
     "output_type": "stream",
     "text": [
      "Enter the number of students:  2\n",
      "Enter student name:  ritesh\n",
      "Enter student's primary skill:  java\n",
      "Enter student's higher education:  B.tech\n",
      "Enter student's year of graduation:  2022\n",
      "Enter student name:  Swastik\n",
      "Enter student's primary skill:  Python\n",
      "Enter student's higher education:  B.Sc CS\n",
      "Enter student's year of graduation:  2020\n",
      "Enter the desired primary skill:  java\n",
      "Enter the desired higher education:  2022\n",
      "Enter the desired year of graduation:  2022\n"
     ]
    },
    {
     "name": "stdout",
     "output_type": "stream",
     "text": [
      "No such candidate.\n"
     ]
    }
   ],
   "source": [
    "\n",
    "num_students = int(input(\"Enter the number of students: \"))\n",
    "students = []  \n",
    "for _ in range(num_students):\n",
    "    name = input(\"Enter student name: \")\n",
    "    primary_skill = input(\"Enter student's primary skill: \")\n",
    "    higher_education = input(\"Enter student's higher education: \")\n",
    "    year_of_graduation = int(input(\"Enter student's year of graduation: \"))\n",
    "    students.append((name, primary_skill, higher_education, year_of_graduation))\n",
    "\n",
    "desired_primary_skill = input(\"Enter the desired primary skill: \")\n",
    "desired_higher_education = input(\"Enter the desired higher education: \")\n",
    "desired_year_of_graduation = int(input(\"Enter the desired year of graduation: \"))\n",
    "\n",
    "found_match = False\n",
    "for student in students:\n",
    "    name, skill, education, graduation_year = student\n",
    "    if (\n",
    "        skill == desired_primary_skill\n",
    "        and education == desired_higher_education\n",
    "        and graduation_year == desired_year_of_graduation\n",
    "    ):\n",
    "        print(f\"Match found: {student}\")\n",
    "        found_match = True\n",
    "\n",
    "if not found_match:\n",
    "    print(\"No such candidate.\")\n",
    "\n"
   ]
  },
  {
   "cell_type": "markdown",
   "id": "cc52a8cb-9701-45ba-a3bb-e97403074e91",
   "metadata": {},
   "source": [
    "# Set:"
   ]
  },
  {
   "cell_type": "markdown",
   "id": "ee493fe0-e4d1-4e96-bc50-2742af9e627d",
   "metadata": {},
   "source": [
    "## Q1) Write a program to find set of common elements in three lists using sets.\n",
    "Input : ar1 = [1, 5, 10, 20, 40, 80]\n",
    "        ar2 = [6, 7, 20, 80, 100]\n",
    "        ar3 = [3, 4, 15, 20, 30, 70, 80, 120]\n",
    "\n",
    "Output : [80, 20]"
   ]
  },
  {
   "cell_type": "code",
   "execution_count": 6,
   "id": "c40c3819-049d-43af-b7bb-9dd5b2aa5324",
   "metadata": {},
   "outputs": [
    {
     "name": "stdout",
     "output_type": "stream",
     "text": [
      "Common elements: [80, 20]\n"
     ]
    }
   ],
   "source": [
    "def find_common_elements(ar1, ar2, ar3):\n",
    "\n",
    "    set1 = set(ar1)\n",
    "    set2 = set(ar2)\n",
    "    set3 = set(ar3)\n",
    "    \n",
    "    common_elements = set1.intersection(set2, set3)\n",
    "    \n",
    "    return list(common_elements)\n",
    "\n",
    "ar1 = [1, 5, 10, 20, 40, 80]\n",
    "ar2 = [6, 7, 20, 80, 100]\n",
    "ar3 = [3, 4, 15, 20, 30, 70, 80, 120]\n",
    "\n",
    "\n",
    "result = find_common_elements(ar1, ar2, ar3)\n",
    "print(\"Common elements:\", result)\n"
   ]
  },
  {
   "cell_type": "markdown",
   "id": "ccf74a0f-5724-4478-8d0f-6f723c83e4d2",
   "metadata": {},
   "source": [
    "## Q2) Write a program to count unique number of vowels using sets in a given string. Lowercase and upercase vowels will be taken as different.\n",
    "Input:\n",
    "\n",
    "Str1 = \"hands-on data science mentorship progrAm with live classes at affordable fee only on CampusX\"\n",
    "Output:\n",
    "\n",
    "No of unique vowels-6"
   ]
  },
  {
   "cell_type": "code",
   "execution_count": 7,
   "id": "5107b657-3429-403a-8e7a-f5849d46f3c6",
   "metadata": {},
   "outputs": [
    {
     "name": "stdout",
     "output_type": "stream",
     "text": [
      "No. of unique vowels: 28\n"
     ]
    }
   ],
   "source": [
    "def count_unique_vowels(s):\n",
    "    vowels = set(\"aeiouAEIOU\")\n",
    "    \n",
    "    unique_vowels_count = 0\n",
    "    \n",
    "    for char in s:\n",
    "        if char in vowels:\n",
    "            unique_vowels_count += 1\n",
    "    \n",
    "    return unique_vowels_count\n",
    "\n",
    "str1 = \"hands-on data science mentorship progrAm with live classes at affordable fee only on CampusX\"\n",
    "result = count_unique_vowels(str1)\n",
    "print(f\"No. of unique vowels: {result}\")\n"
   ]
  },
  {
   "cell_type": "markdown",
   "id": "7e8fa9c6-d2ee-4579-b82f-472d51765ba1",
   "metadata": {},
   "source": [
    "## Q3) Write a program to Check if a given string is binary string of or not.\n",
    "A string is said to be binary if it's consists of only two unique characters.\n",
    "\n",
    "Take string input from user.\n",
    "\n",
    "Input: str = \"01010101010\"\n",
    "Output: Yes\n",
    "\n",
    "Input: str = \"1222211\"\n",
    "Output: Yes\n",
    "\n",
    "Input: str = \"Campusx\"\n",
    "Output: No"
   ]
  },
  {
   "cell_type": "code",
   "execution_count": 9,
   "id": "fab2b78c-da1e-4868-871e-4516938fa206",
   "metadata": {},
   "outputs": [
    {
     "name": "stdin",
     "output_type": "stream",
     "text": [
      "Enter a string:  2121212121212\n"
     ]
    },
    {
     "name": "stdout",
     "output_type": "stream",
     "text": [
      "No\n"
     ]
    }
   ],
   "source": [
    "def check_binary(string):\n",
    "    unique_chars = set(string)\n",
    "    binary_chars = {'0', '1'}\n",
    "    if unique_chars == binary_chars or unique_chars == {'0'} or unique_chars == {'1'}:\n",
    "        return \"Yes\"\n",
    "    else:\n",
    "        return \"No\"\n",
    "\n",
    "user_input = input(\"Enter a string: \")\n",
    "print(check_binary(user_input))\n"
   ]
  },
  {
   "cell_type": "markdown",
   "id": "bad3abe6-851f-4a13-bd9a-e1f5c5d0ee98",
   "metadata": {},
   "source": [
    "## Q4) find union of n arrays.\n",
    "Example 1:\n",
    "\n",
    "Input:\n",
    "\n",
    "[[1, 2, 2, 4, 3, 6],\n",
    " [5, 1, 3, 4],\n",
    " [9, 5, 7, 1],\n",
    " [2, 4, 1, 3]]\n",
    "Output:\n",
    "\n",
    "[1, 2, 3, 4, 5, 6, 7, 9]"
   ]
  },
  {
   "cell_type": "code",
   "execution_count": 20,
   "id": "bdf626a0-9c53-4adf-8b73-031c8335fcc7",
   "metadata": {},
   "outputs": [
    {
     "name": "stdout",
     "output_type": "stream",
     "text": [
      "[1, 2, 3, 4, 5, 6, 7, 9]\n"
     ]
    }
   ],
   "source": [
    "def find_union(arrays):\n",
    "    result_set = set()\n",
    "    for arr in arrays:\n",
    "        result_set.update(arr)\n",
    "    return sorted(result_set)\n",
    "\n",
    "input_arrays = [[1, 2, 2, 4, 3, 6], [5, 1, 3, 4], [9, 5, 7, 1], [2, 4, 1, 3]]\n",
    "output_union = find_union(input_arrays)\n",
    "print(output_union)\n"
   ]
  },
  {
   "cell_type": "markdown",
   "id": "477960ba-bf71-4ae4-b8e9-9c2336b11bbe",
   "metadata": {},
   "source": [
    "# Q5) Intersection of two lists. Intersection of two list means we need to take all those elements which are common to both of the initial lists and store them into another list. Only use using list-comprehension.\n",
    "Example 1:\n",
    "\n",
    "Input:\n",
    "\n",
    "lst1 = {15, 9, 10, 56, 23, 78, 5, 4, 9}\n",
    "lst2 = {9, 4, 5, 36, 47, 26, 10, 45, 87}\n",
    "Output:\n",
    "\n",
    "[9, 10, 4, 5]"
   ]
  },
  {
   "cell_type": "code",
   "execution_count": 10,
   "id": "520b239c-3bfd-47ed-8673-f36e512b102c",
   "metadata": {},
   "outputs": [
    {
     "name": "stdout",
     "output_type": "stream",
     "text": [
      "[9, 10, 5, 4, 9]\n"
     ]
    }
   ],
   "source": [
    "def intersection(lst1, lst2):\n",
    "    return [value for value in lst1 if value in lst2]\n",
    "\n",
    "lst1 = [15, 9, 10, 56, 23, 78, 5, 4, 9]\n",
    "lst2 = [9, 4, 5, 36, 47, 26, 10, 45, 87]\n",
    "result = intersection(lst1, lst2)\n",
    "print(result)  "
   ]
  },
  {
   "cell_type": "markdown",
   "id": "0239ab71-6e4e-4930-98dd-017f3db81349",
   "metadata": {},
   "source": [
    "# Dictionary:"
   ]
  },
  {
   "cell_type": "markdown",
   "id": "f8e53a94-c006-4d08-b836-6144ce6b00d4",
   "metadata": {},
   "source": [
    "## Q1) Key with maximum unique values\n",
    "Given a dictionary with values list, extract key whose value has most unique values.\n",
    "\n",
    "Example 1:\n",
    "\n",
    "Input:\n",
    "\n",
    "test_dict = {\"CampusX\" : [5, 7, 9, 4, 0], \"is\" : [6, 7, 4, 3, 3], \"Best\" : [9, 9, 6, 5, 5]}\n",
    "Output:\n",
    "\n",
    "CampusX"
   ]
  },
  {
   "cell_type": "code",
   "execution_count": 11,
   "id": "37498878-afc1-45f6-9336-77ff056492aa",
   "metadata": {},
   "outputs": [
    {
     "name": "stdout",
     "output_type": "stream",
     "text": [
      "is\n"
     ]
    }
   ],
   "source": [
    "test_dict = {\"CampusX\" : [5, 7, 9, 4, 0], \"is\" : [6, 7, 4, 3, 3], \"Best\" : [9, 9, 6, 5, 5]}\n",
    "print(max(test_dict))"
   ]
  },
  {
   "cell_type": "markdown",
   "id": "d7ff2948-a79e-40c5-af23-baeef52c1a36",
   "metadata": {},
   "source": [
    "## Q2) Replace words from Dictionary. Given String, replace it’s words from lookup dictionary.\n",
    "Example 1:\n",
    "\n",
    "Input:\n",
    "\n",
    "test_str = 'CampusX best for DS students.'\n",
    "repl_dict = {\"best\" : \"is the best channel\", \"DS\" : \"Data-Science\"}\n",
    "Output:\n",
    "\n",
    "CampusX is the best channel for Data-Science students."
   ]
  },
  {
   "cell_type": "code",
   "execution_count": 14,
   "id": "dda618b8-09e4-4175-b5da-3df78993b9c7",
   "metadata": {},
   "outputs": [
    {
     "name": "stdout",
     "output_type": "stream",
     "text": [
      "Replaced Strings: CampusX is the best channel for Data-Science students.\n"
     ]
    }
   ],
   "source": [
    "test_str = 'CampusX best for DS students.'\n",
    "repl_dict = {\"best\": \"is the best channel\", \"DS\": \"Data-Science\"}\n",
    "output = replace_words(test_str, repl_dict)\n",
    "print(\"Replaced Strings:\", output)\n"
   ]
  },
  {
   "cell_type": "markdown",
   "id": "cd1db572-4cf5-4f7e-846c-b829205fe963",
   "metadata": {},
   "source": [
    "## Q3) Convert List to List of dictionaries. Given list values and keys list, convert these values to key value pairs in form of list of dictionaries.\n",
    "Example 1:\n",
    "\n",
    "Input:\n",
    "\n",
    "test_list = [\"DataScience\", 3, \"is\", 8]\n",
    "key_list = [\"name\", \"id\"]\n",
    "\n",
    "Output:[{'name': 'DataScience', 'id': 3}, {'name': 'is', 'id': 8}]"
   ]
  },
  {
   "cell_type": "code",
   "execution_count": 15,
   "id": "615d61ca-fbc7-4a6f-b15b-17d332a5d002",
   "metadata": {},
   "outputs": [
    {
     "name": "stdout",
     "output_type": "stream",
     "text": [
      "The constructed dictionary list: [{'name': 'datascience', 'id': 3}, {'name': 'is', 'id': 8}]\n"
     ]
    }
   ],
   "source": [
    "test_list = [\"datascience\", 3, \"is\", 8]\n",
    "key_list = [\"name\", \"id\"]\n",
    "\n",
    "n = len(test_list)\n",
    "res = []\n",
    "for idx in range(0, n, 2):\n",
    "    res.append({key_list[0]: test_list[idx], key_list[1]: test_list[idx + 1]})\n",
    "\n",
    "print(\"The constructed dictionary list:\", res)\n"
   ]
  },
  {
   "cell_type": "markdown",
   "id": "fa6c0b4a-b7be-44a8-8b60-1391a2b746a6",
   "metadata": {},
   "source": [
    "## Q4) Convert a list of Tuples into Dictionary.\n",
    "Example 1:\n",
    "\n",
    "Input:[(\"akash\", 10), (\"gaurav\", 12), (\"anand\", 14), (\"suraj\", 20), (\"akhil\", 25), (\"ashish\", 30)]\n",
    "\n",
    "Output:{'akash': [10], 'gaurav': [12], 'anand': [14], 'suraj': [20], 'akhil': [25], 'ashish': [30]}"
   ]
  },
  {
   "cell_type": "code",
   "execution_count": 18,
   "id": "0bbcedbc-41a2-434b-92b8-c26a986fbb19",
   "metadata": {},
   "outputs": [
    {
     "name": "stdout",
     "output_type": "stream",
     "text": [
      "{'akash': [10], 'gaurav': [12], 'anand': [14], 'suraj': [20], 'akhil': [25], 'ashish': [30]}\n"
     ]
    }
   ],
   "source": [
    "def convert_to_dict(tup):\n",
    "    result_dict = {}\n",
    "    for key, value in tup:\n",
    "        result_dict.setdefault(key, []).append(value)\n",
    "    return result_dict\n",
    "\n",
    "input_list = [(\"akash\", 10), (\"gaurav\", 12), (\"anand\", 14), (\"suraj\", 20), (\"akhil\", 25), (\"ashish\", 30)]\n",
    "output_dict = convert_to_dict(input_list)\n",
    "print(output_dict)\n"
   ]
  },
  {
   "cell_type": "markdown",
   "id": "14fa8c98-2da0-4779-a426-cdcbbc53398f",
   "metadata": {},
   "source": [
    "## Q5) Sort Dictionary key and values List.\n",
    "Example 1:\n",
    "\n",
    "Input:{'c': [3], 'b': [12, 10], 'a': [19, 4]}\n",
    "\n",
    "Output:{'a': [4, 19], 'b': [10, 12], 'c': [3]}"
   ]
  },
  {
   "cell_type": "code",
   "execution_count": 19,
   "id": "9f0a0173-acc9-47ce-b325-5ea417773443",
   "metadata": {},
   "outputs": [
    {
     "name": "stdout",
     "output_type": "stream",
     "text": [
      "{'a': [4, 19], 'b': [10, 12], 'c': [3]}\n"
     ]
    }
   ],
   "source": [
    "input_dict = {'c': [3], 'b': [12, 10], 'a': [19, 4]}\n",
    "output_dict = {key: sorted(input_dict[key]) for key in sorted(input_dict)}\n",
    "print(output_dict)\n"
   ]
  },
  {
   "cell_type": "code",
   "execution_count": null,
   "id": "a53bcf0e-7c51-4f78-96df-d9ecfce84afa",
   "metadata": {},
   "outputs": [],
   "source": []
  }
 ],
 "metadata": {
  "kernelspec": {
   "display_name": "Python 3 (ipykernel)",
   "language": "python",
   "name": "python3"
  },
  "language_info": {
   "codemirror_mode": {
    "name": "ipython",
    "version": 3
   },
   "file_extension": ".py",
   "mimetype": "text/x-python",
   "name": "python",
   "nbconvert_exporter": "python",
   "pygments_lexer": "ipython3",
   "version": "3.11.7"
  }
 },
 "nbformat": 4,
 "nbformat_minor": 5
}
